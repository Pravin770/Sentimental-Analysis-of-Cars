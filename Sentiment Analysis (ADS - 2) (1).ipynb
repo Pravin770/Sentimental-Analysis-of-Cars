{
 "cells": [
  {
   "cell_type": "markdown",
   "id": "1c4021d4",
   "metadata": {},
   "source": [
    "# Applied Data Science Lab 2: Sentiment Analysis of Reviews"
   ]
  },
  {
   "cell_type": "markdown",
   "id": "0d062afa",
   "metadata": {},
   "source": [
    "## Task - 1"
   ]
  },
  {
   "cell_type": "markdown",
   "id": "c9a5b436",
   "metadata": {},
   "source": [
    "### **Importing Libraries**"
   ]
  },
  {
   "cell_type": "code",
   "execution_count": 1,
   "id": "f41161ea",
   "metadata": {},
   "outputs": [],
   "source": [
    "# Importing Libraries\n",
    "import numpy as nm \n",
    "import pandas as pd \n",
    "import seaborn as sns\n",
    "import re \n",
    "from IPython.display import display \n",
    "from sklearn.naive_bayes import MultinomialNB \n",
    "from sklearn.model_selection import train_test_split\n",
    "from sklearn.feature_extraction.text import CountVectorizer\n",
    "from sklearn.metrics import confusion_matrix, accuracy_score\n",
    "from sklearn.naive_bayes import ComplementNB\n",
    "from sklearn.naive_bayes import GaussianNB\n",
    "from sklearn.naive_bayes import BernoulliNB\n",
    "from sklearn.metrics import confusion_matrix\n",
    "from sklearn.metrics import classification_report\n",
    "import nltk \n",
    "from nltk.corpus import stopwords\n",
    "from nltk.tokenize import word_tokenize\n",
    "from nltk.stem.porter import PorterStemmer\n"
   ]
  },
  {
   "cell_type": "markdown",
   "id": "915348cf",
   "metadata": {},
   "source": [
    "### Reading the file"
   ]
  },
  {
   "cell_type": "code",
   "execution_count": 2,
   "id": "af9a4ad1",
   "metadata": {},
   "outputs": [],
   "source": [
    "file =  pd.read_csv('car_reviews.csv')"
   ]
  },
  {
   "cell_type": "code",
   "execution_count": 3,
   "id": "2c35ea77",
   "metadata": {
    "scrolled": true
   },
   "outputs": [
    {
     "name": "stderr",
     "output_type": "stream",
     "text": [
      "[nltk_data] Downloading package punkt to C:\\Users\\The\n",
      "[nltk_data]     Best\\AppData\\Roaming\\nltk_data...\n",
      "[nltk_data]   Package punkt is already up-to-date!\n",
      "[nltk_data] Downloading package stopwords to C:\\Users\\The\n",
      "[nltk_data]     Best\\AppData\\Roaming\\nltk_data...\n",
      "[nltk_data]   Package stopwords is already up-to-date!\n"
     ]
    }
   ],
   "source": [
    "#downloading Punkt Tokenizer Models to allow word_tokenize to work\n",
    "nltk.download('punkt')\n",
    "#downloading stopwords which contains a list of stopwords that can be ignored\n",
    "nltk.download('stopwords')\n",
    "\n",
    "#assigning the PorterStemmer function\n",
    "ps = PorterStemmer()"
   ]
  },
  {
   "cell_type": "markdown",
   "id": "be5512e0",
   "metadata": {},
   "source": [
    "### Cleaning Function"
   ]
  },
  {
   "cell_type": "markdown",
   "id": "c1cee897",
   "metadata": {},
   "source": [
    "1. Converts all the text to the lowercase\n",
    "2. Exclusion of Words and Punctuation/Ignoring Case Sensitivity\n"
   ]
  },
  {
   "cell_type": "code",
   "execution_count": 4,
   "id": "27cf2ae0",
   "metadata": {},
   "outputs": [],
   "source": [
    "def cleaning(reviews):\n",
    "    \n",
    "    #converting text to lowercase\n",
    "    reviews = reviews.lower()\n",
    "     \n",
    "    #removing characters that aren't in the alphabet\n",
    "    reviews = re.sub('[^a-z0-9]', ' ', reviews)\n",
    "      \n",
    "    #splitting text into tokens\n",
    "    tokenize = word_tokenize(reviews)\n",
    "    \n",
    "    #adding STEM of the tokens that aren't in \"stopwords\" to a list\n",
    "    stem_list = [ps.stem(word) for word in tokenize if word not in set(stopwords.words('english'))]\n",
    "     \n",
    "    #turning list into a string\n",
    "    joined_text = ' '.join(stem_list)\n",
    "    \n",
    "    return joined_text"
   ]
  },
  {
   "cell_type": "markdown",
   "id": "cc545be4",
   "metadata": {},
   "source": [
    "### Cleaning Process"
   ]
  },
  {
   "cell_type": "code",
   "execution_count": 5,
   "id": "2202a959",
   "metadata": {},
   "outputs": [],
   "source": [
    "#list to store the processed reviews\n",
    "data = []\n",
    "\n",
    "#going through each review in the dataframe\n",
    "for i in range(file.shape[0]):\n",
    "    #selecting review in pandas DataFrame\n",
    "    reviews = file.iloc[i, 1]\n",
    "    \n",
    "    #clean review using cleaning function\n",
    "    cleaned_reviews = cleaning(reviews)\n",
    "    \n",
    "    #adding cleaned review to a list\n",
    "    data.append(cleaned_reviews)\n",
    "    "
   ]
  },
  {
   "cell_type": "markdown",
   "id": "809a9ca5",
   "metadata": {},
   "source": [
    "### Example on how cleaning process works\n",
    "The cell below is an example of how the data is initially cleaned. First, the whole texts are converted to lower case. Then  take only the characters that are in the alphabets and numbers using `re.sub` method. So puctuations will get removed. After tokenizing, remove the words that don't have sentiment and append the other words in the list that are not in stopwords. Finally, the list is then joined together into one big piece of text.\n",
    "\n",
    "In the below example, \n",
    "* First, converted all the words to lowercase. (Taurus -> taurus)\n",
    "* Removed the punctuations and words that don't have sentiment (*'in', 'the', ...*)\n",
    "* Joined the list of words as a single text."
   ]
  },
  {
   "cell_type": "code",
   "execution_count": 6,
   "id": "8661062a",
   "metadata": {},
   "outputs": [
    {
     "name": "stdout",
     "output_type": "stream",
     "text": [
      "\u001b[1mThe original text is:\u001b[0m\n",
      "\n",
      " The last business trip  I drove to San Francisco  I went to Hertz Rentals and got a 1999 Ford Taurus  thinking it looked comfortable and professional  I found the seating to be uncomfortable for myself  as well as for my passenger Now  seating comfort may not be important to you  but it is to me The fuel usage was fine  the car did get us there with no problems  but  it was such an uncomfortable ride for both of us  It is not as though I am hard to fit into a car  I am 5 5  weigh 115 pounds  and I am usually quite comfortable in most any car  But  the Taurus seemed especially uncomfortable  For anyone who is thinking of renting a car for a long trip  I would suggest that the Ford Taurus  1999  not be on the list of  be sure to get this There was a large trunk that allowed us to pack a lot of materials needed for the business end of the trip  Driving it was a breeze  and everything  worked  right  I have no complaints about the standard making of the car  except in the comfort area  How important is comfort to you  On a long trip  being an uncomfortable driver is distracting to me  and it made the trip seem unnecessarily longer than it should have felt  I make this trip a lot  The Saturn would have been a better choice for me  as I have rented this model quite often  It offers comforts that the Taurus simply does not have If you are planning a long trip  or to buy a car that you intend to be comfortably seated in  check out the Taurus on a longer trial basis than you might another car  You may find the same thing happening to your comfort  \n",
      "\n",
      "\u001b[1mConverting text to lowercase\u001b[0m\n",
      "\n",
      " the last business trip  i drove to san francisco  i went to hertz rentals and got a 1999 ford taurus  thinking it looked comfortable and professional  i found the seating to be uncomfortable for myself  as well as for my passenger now  seating comfort may not be important to you  but it is to me the fuel usage was fine  the car did get us there with no problems  but  it was such an uncomfortable ride for both of us  it is not as though i am hard to fit into a car  i am 5 5  weigh 115 pounds  and i am usually quite comfortable in most any car  but  the taurus seemed especially uncomfortable  for anyone who is thinking of renting a car for a long trip  i would suggest that the ford taurus  1999  not be on the list of  be sure to get this there was a large trunk that allowed us to pack a lot of materials needed for the business end of the trip  driving it was a breeze  and everything  worked  right  i have no complaints about the standard making of the car  except in the comfort area  how important is comfort to you  on a long trip  being an uncomfortable driver is distracting to me  and it made the trip seem unnecessarily longer than it should have felt  i make this trip a lot  the saturn would have been a better choice for me  as i have rented this model quite often  it offers comforts that the taurus simply does not have if you are planning a long trip  or to buy a car that you intend to be comfortably seated in  check out the taurus on a longer trial basis than you might another car  you may find the same thing happening to your comfort  \n",
      "\n",
      "\u001b[1mThe cleaned text is:\u001b[0m\n",
      "\n",
      "last business trip drove san francisco went hertz rentals got 1999 ford taurus thinking looked comfortable professional found seating uncomfortable well passenger seating comfort may important fuel usage fine car get us problems uncomfortable ride us though hard fit car 5 5 weigh 115 pounds usually quite comfortable car taurus seemed especially uncomfortable anyone thinking renting car long trip would suggest ford taurus 1999 list sure get large trunk allowed us pack lot materials needed business end trip driving breeze everything worked right complaints standard making car except comfort area important comfort long trip uncomfortable driver distracting made trip seem unnecessarily longer felt make trip lot saturn would better choice rented model quite often offers comforts taurus simply planning long trip buy car intend comfortably seated check taurus longer trial basis might another car may find thing happening comfort\n",
      "\n"
     ]
    }
   ],
   "source": [
    "#Printing the first review/row of data.\n",
    "first_row = file['Review'][1]\n",
    "\n",
    "lower_text = first_row.lower()\n",
    "\n",
    "#removing characters that aren't in the alphabet\n",
    "punct_text = re.sub('[^a-z0-9]', ' ', lower_text)\n",
    "# punct_text = re.sub('[^a-z]', ' ', punct_text)\n",
    "#splitting text into tokens\n",
    "tokenize = word_tokenize(punct_text)\n",
    "\n",
    "#iterating through the tokens and add the token to a list if it doesn't appear in \"stopwords\"\n",
    "word_list = [word for word in tokenize if word not in set(stopwords.words('english'))]\n",
    "#turning list into a string\n",
    "final_text = \" \".join(word_list)\n",
    "\n",
    "#showing comparison of raw data against cleaned data\n",
    "print('\\033[1m' +\"The original text is:\"+'\\033[0m')\n",
    "print('')\n",
    "print(first_row)\n",
    "print('')\n",
    "print('\\033[1m' +\"Converting text to lowercase\"+'\\033[0m')\n",
    "print('')\n",
    "print(lower_text)\n",
    "print('')\n",
    "print('\\033[1m' +'The cleaned text is:'+'\\033[0m' )\n",
    "print('')\n",
    "print(final_text)\n",
    "print('')"
   ]
  },
  {
   "cell_type": "markdown",
   "id": "66b28431",
   "metadata": {},
   "source": [
    "### Example for stemming process\n",
    "The cell below demonstrates the stemming process. There are 3 different lists with different words of same stem. I have used`portstemmer` function, it finds the stem of a given word. The stemmed words are then appended to a single list."
   ]
  },
  {
   "cell_type": "code",
   "execution_count": 7,
   "id": "0c9f579d",
   "metadata": {},
   "outputs": [
    {
     "name": "stdout",
     "output_type": "stream",
     "text": [
      "['play', 'plays', 'played', 'playing'] ----> ['play', 'play', 'play', 'play']\n",
      "\n",
      "['drinks', 'drink', 'drinking'] -----------> ['drink', 'drink', 'drink']\n",
      "\n",
      "['codes', 'coding', 'code'] ---------------> ['code', 'code', 'code']\n",
      "\n"
     ]
    }
   ],
   "source": [
    "#creating 3 examples of words that have the same stem\n",
    "test_list1 = ['play', 'plays', 'played', 'playing']\n",
    "test_list2 = ['drinks', 'drink', 'drinking']\n",
    "test_list3 = [\"codes\", 'coding', 'code']\n",
    "\n",
    "\n",
    "#going through all 3 of the lists and adding the stem of each word to a list\n",
    "list1 = []\n",
    "for i in test_list1:\n",
    "    list1.append(ps.stem(i))\n",
    "    \n",
    "list2 = []\n",
    "for j in test_list2:\n",
    "    list2.append(ps.stem(j))\n",
    "\n",
    "list3 = []\n",
    "for k in test_list3:\n",
    "    list3.append(ps.stem(k))\n",
    "    \n",
    "    \n",
    "\n",
    "#comparing original word list to stems list\n",
    "print(str(test_list1) + ' ----> ' + str(list1))\n",
    "print('')\n",
    "print(str(test_list2) + ' -----------> ' + str(list2))\n",
    "print('')\n",
    "print(str(test_list3) + ' ---------------> ' + str(list3))\n",
    "print('')"
   ]
  },
  {
   "cell_type": "markdown",
   "id": "9577bdbe",
   "metadata": {},
   "source": [
    "### Vector Creation\n",
    "The cell below demonstrates the vector creation. It creates a vector for the first 5 reviews. First, we do the **'cleaning'** process. Then a vector of tokens for each word is generated. Then the vectors are put into a DataFrame and displayed using the display method. The words found, alongside the number of time they occur in the reveiew can also be seen."
   ]
  },
  {
   "cell_type": "code",
   "execution_count": 8,
   "id": "65981470",
   "metadata": {},
   "outputs": [
    {
     "name": "stdout",
     "output_type": "stream",
     "text": [
      "\n",
      "The count vector for review 1 is:\n"
     ]
    },
    {
     "data": {
      "text/html": [
       "<div>\n",
       "<style scoped>\n",
       "    .dataframe tbody tr th:only-of-type {\n",
       "        vertical-align: middle;\n",
       "    }\n",
       "\n",
       "    .dataframe tbody tr th {\n",
       "        vertical-align: top;\n",
       "    }\n",
       "\n",
       "    .dataframe thead th {\n",
       "        text-align: right;\n",
       "    }\n",
       "</style>\n",
       "<table border=\"1\" class=\"dataframe\">\n",
       "  <thead>\n",
       "    <tr style=\"text-align: right;\">\n",
       "      <th></th>\n",
       "      <th>1992</th>\n",
       "      <th>1999</th>\n",
       "      <th>anyway</th>\n",
       "      <th>back</th>\n",
       "      <th>batteri</th>\n",
       "      <th>bought</th>\n",
       "      <th>buy</th>\n",
       "      <th>car</th>\n",
       "      <th>card</th>\n",
       "      <th>care</th>\n",
       "      <th>...</th>\n",
       "      <th>take</th>\n",
       "      <th>tank</th>\n",
       "      <th>tauru</th>\n",
       "      <th>thee</th>\n",
       "      <th>think</th>\n",
       "      <th>tire</th>\n",
       "      <th>tri</th>\n",
       "      <th>version</th>\n",
       "      <th>way</th>\n",
       "      <th>would</th>\n",
       "    </tr>\n",
       "  </thead>\n",
       "  <tbody>\n",
       "    <tr>\n",
       "      <th>0</th>\n",
       "      <td>3</td>\n",
       "      <td>1</td>\n",
       "      <td>1</td>\n",
       "      <td>1</td>\n",
       "      <td>1</td>\n",
       "      <td>2</td>\n",
       "      <td>1</td>\n",
       "      <td>1</td>\n",
       "      <td>1</td>\n",
       "      <td>1</td>\n",
       "      <td>...</td>\n",
       "      <td>1</td>\n",
       "      <td>1</td>\n",
       "      <td>3</td>\n",
       "      <td>1</td>\n",
       "      <td>1</td>\n",
       "      <td>1</td>\n",
       "      <td>1</td>\n",
       "      <td>1</td>\n",
       "      <td>1</td>\n",
       "      <td>2</td>\n",
       "    </tr>\n",
       "  </tbody>\n",
       "</table>\n",
       "<p>1 rows × 61 columns</p>\n",
       "</div>"
      ],
      "text/plain": [
       "   1992  1999  anyway  back  batteri  bought  buy  car  card  care  ...  take  \\\n",
       "0     3     1       1     1        1       2    1    1     1     1  ...     1   \n",
       "\n",
       "   tank  tauru  thee  think  tire  tri  version  way  would  \n",
       "0     1      3     1      1     1    1        1    1      2  \n",
       "\n",
       "[1 rows x 61 columns]"
      ]
     },
     "metadata": {},
     "output_type": "display_data"
    },
    {
     "name": "stdout",
     "output_type": "stream",
     "text": [
      "\n",
      "The count vector for review 2 is:\n"
     ]
    },
    {
     "data": {
      "text/html": [
       "<div>\n",
       "<style scoped>\n",
       "    .dataframe tbody tr th:only-of-type {\n",
       "        vertical-align: middle;\n",
       "    }\n",
       "\n",
       "    .dataframe tbody tr th {\n",
       "        vertical-align: top;\n",
       "    }\n",
       "\n",
       "    .dataframe thead th {\n",
       "        text-align: right;\n",
       "    }\n",
       "</style>\n",
       "<table border=\"1\" class=\"dataframe\">\n",
       "  <thead>\n",
       "    <tr style=\"text-align: right;\">\n",
       "      <th></th>\n",
       "      <th>115</th>\n",
       "      <th>1999</th>\n",
       "      <th>allow</th>\n",
       "      <th>anoth</th>\n",
       "      <th>anyon</th>\n",
       "      <th>area</th>\n",
       "      <th>basi</th>\n",
       "      <th>better</th>\n",
       "      <th>breez</th>\n",
       "      <th>busi</th>\n",
       "      <th>...</th>\n",
       "      <th>uncomfort</th>\n",
       "      <th>unnecessarili</th>\n",
       "      <th>us</th>\n",
       "      <th>usag</th>\n",
       "      <th>usual</th>\n",
       "      <th>weigh</th>\n",
       "      <th>well</th>\n",
       "      <th>went</th>\n",
       "      <th>work</th>\n",
       "      <th>would</th>\n",
       "    </tr>\n",
       "  </thead>\n",
       "  <tbody>\n",
       "    <tr>\n",
       "      <th>0</th>\n",
       "      <td>1</td>\n",
       "      <td>2</td>\n",
       "      <td>1</td>\n",
       "      <td>1</td>\n",
       "      <td>1</td>\n",
       "      <td>1</td>\n",
       "      <td>1</td>\n",
       "      <td>1</td>\n",
       "      <td>1</td>\n",
       "      <td>2</td>\n",
       "      <td>...</td>\n",
       "      <td>4</td>\n",
       "      <td>1</td>\n",
       "      <td>3</td>\n",
       "      <td>1</td>\n",
       "      <td>1</td>\n",
       "      <td>1</td>\n",
       "      <td>1</td>\n",
       "      <td>1</td>\n",
       "      <td>1</td>\n",
       "      <td>2</td>\n",
       "    </tr>\n",
       "  </tbody>\n",
       "</table>\n",
       "<p>1 rows × 91 columns</p>\n",
       "</div>"
      ],
      "text/plain": [
       "   115  1999  allow  anoth  anyon  area  basi  better  breez  busi  ...  \\\n",
       "0    1     2      1      1      1     1     1       1      1     2  ...   \n",
       "\n",
       "   uncomfort  unnecessarili  us  usag  usual  weigh  well  went  work  would  \n",
       "0          4              1   3     1      1      1     1     1     1      2  \n",
       "\n",
       "[1 rows x 91 columns]"
      ]
     },
     "metadata": {},
     "output_type": "display_data"
    },
    {
     "name": "stdout",
     "output_type": "stream",
     "text": [
      "\n",
      "The count vector for review 3 is:\n"
     ]
    },
    {
     "data": {
      "text/html": [
       "<div>\n",
       "<style scoped>\n",
       "    .dataframe tbody tr th:only-of-type {\n",
       "        vertical-align: middle;\n",
       "    }\n",
       "\n",
       "    .dataframe tbody tr th {\n",
       "        vertical-align: top;\n",
       "    }\n",
       "\n",
       "    .dataframe thead th {\n",
       "        text-align: right;\n",
       "    }\n",
       "</style>\n",
       "<table border=\"1\" class=\"dataframe\">\n",
       "  <thead>\n",
       "    <tr style=\"text-align: right;\">\n",
       "      <th></th>\n",
       "      <th>000</th>\n",
       "      <th>10mpg</th>\n",
       "      <th>1700</th>\n",
       "      <th>1990</th>\n",
       "      <th>200</th>\n",
       "      <th>70</th>\n",
       "      <th>98</th>\n",
       "      <th>addit</th>\n",
       "      <th>air</th>\n",
       "      <th>also</th>\n",
       "      <th>...</th>\n",
       "      <th>valv</th>\n",
       "      <th>vehicl</th>\n",
       "      <th>vibrat</th>\n",
       "      <th>week</th>\n",
       "      <th>went</th>\n",
       "      <th>within</th>\n",
       "      <th>work</th>\n",
       "      <th>wrong</th>\n",
       "      <th>yard</th>\n",
       "      <th>year</th>\n",
       "    </tr>\n",
       "  </thead>\n",
       "  <tbody>\n",
       "    <tr>\n",
       "      <th>0</th>\n",
       "      <td>2</td>\n",
       "      <td>1</td>\n",
       "      <td>1</td>\n",
       "      <td>1</td>\n",
       "      <td>1</td>\n",
       "      <td>1</td>\n",
       "      <td>1</td>\n",
       "      <td>1</td>\n",
       "      <td>3</td>\n",
       "      <td>1</td>\n",
       "      <td>...</td>\n",
       "      <td>1</td>\n",
       "      <td>4</td>\n",
       "      <td>1</td>\n",
       "      <td>5</td>\n",
       "      <td>2</td>\n",
       "      <td>3</td>\n",
       "      <td>1</td>\n",
       "      <td>1</td>\n",
       "      <td>1</td>\n",
       "      <td>1</td>\n",
       "    </tr>\n",
       "  </tbody>\n",
       "</table>\n",
       "<p>1 rows × 128 columns</p>\n",
       "</div>"
      ],
      "text/plain": [
       "   000  10mpg  1700  1990  200  70  98  addit  air  also  ...  valv  vehicl  \\\n",
       "0    2      1     1     1    1   1   1      1    3     1  ...     1       4   \n",
       "\n",
       "   vibrat  week  went  within  work  wrong  yard  year  \n",
       "0       1     5     2       3     1      1     1     1  \n",
       "\n",
       "[1 rows x 128 columns]"
      ]
     },
     "metadata": {},
     "output_type": "display_data"
    },
    {
     "name": "stdout",
     "output_type": "stream",
     "text": [
      "\n",
      "The count vector for review 4 is:\n"
     ]
    },
    {
     "data": {
      "text/html": [
       "<div>\n",
       "<style scoped>\n",
       "    .dataframe tbody tr th:only-of-type {\n",
       "        vertical-align: middle;\n",
       "    }\n",
       "\n",
       "    .dataframe tbody tr th {\n",
       "        vertical-align: top;\n",
       "    }\n",
       "\n",
       "    .dataframe thead th {\n",
       "        text-align: right;\n",
       "    }\n",
       "</style>\n",
       "<table border=\"1\" class=\"dataframe\">\n",
       "  <thead>\n",
       "    <tr style=\"text-align: right;\">\n",
       "      <th></th>\n",
       "      <th>000</th>\n",
       "      <th>10</th>\n",
       "      <th>15</th>\n",
       "      <th>17</th>\n",
       "      <th>2000</th>\n",
       "      <th>2003</th>\n",
       "      <th>30k</th>\n",
       "      <th>36k</th>\n",
       "      <th>400</th>\n",
       "      <th>4l</th>\n",
       "      <th>...</th>\n",
       "      <th>upset</th>\n",
       "      <th>use</th>\n",
       "      <th>valu</th>\n",
       "      <th>vehicl</th>\n",
       "      <th>version</th>\n",
       "      <th>warranti</th>\n",
       "      <th>weight</th>\n",
       "      <th>welcom</th>\n",
       "      <th>xlt</th>\n",
       "      <th>yet</th>\n",
       "    </tr>\n",
       "  </thead>\n",
       "  <tbody>\n",
       "    <tr>\n",
       "      <th>0</th>\n",
       "      <td>1</td>\n",
       "      <td>1</td>\n",
       "      <td>1</td>\n",
       "      <td>1</td>\n",
       "      <td>1</td>\n",
       "      <td>1</td>\n",
       "      <td>1</td>\n",
       "      <td>1</td>\n",
       "      <td>1</td>\n",
       "      <td>1</td>\n",
       "      <td>...</td>\n",
       "      <td>1</td>\n",
       "      <td>1</td>\n",
       "      <td>1</td>\n",
       "      <td>5</td>\n",
       "      <td>1</td>\n",
       "      <td>8</td>\n",
       "      <td>1</td>\n",
       "      <td>1</td>\n",
       "      <td>1</td>\n",
       "      <td>1</td>\n",
       "    </tr>\n",
       "  </tbody>\n",
       "</table>\n",
       "<p>1 rows × 231 columns</p>\n",
       "</div>"
      ],
      "text/plain": [
       "   000  10  15  17  2000  2003  30k  36k  400  4l  ...  upset  use  valu  \\\n",
       "0    1   1   1   1     1     1    1    1    1   1  ...      1    1     1   \n",
       "\n",
       "   vehicl  version  warranti  weight  welcom  xlt  yet  \n",
       "0       5        1         8       1       1    1    1  \n",
       "\n",
       "[1 rows x 231 columns]"
      ]
     },
     "metadata": {},
     "output_type": "display_data"
    },
    {
     "name": "stdout",
     "output_type": "stream",
     "text": [
      "\n",
      "The count vector for review 5 is:\n"
     ]
    },
    {
     "data": {
      "text/html": [
       "<div>\n",
       "<style scoped>\n",
       "    .dataframe tbody tr th:only-of-type {\n",
       "        vertical-align: middle;\n",
       "    }\n",
       "\n",
       "    .dataframe tbody tr th {\n",
       "        vertical-align: top;\n",
       "    }\n",
       "\n",
       "    .dataframe thead th {\n",
       "        text-align: right;\n",
       "    }\n",
       "</style>\n",
       "<table border=\"1\" class=\"dataframe\">\n",
       "  <thead>\n",
       "    <tr style=\"text-align: right;\">\n",
       "      <th></th>\n",
       "      <th>200sx</th>\n",
       "      <th>abl</th>\n",
       "      <th>acceler</th>\n",
       "      <th>ad</th>\n",
       "      <th>addit</th>\n",
       "      <th>almost</th>\n",
       "      <th>alot</th>\n",
       "      <th>alway</th>\n",
       "      <th>anyon</th>\n",
       "      <th>avoid</th>\n",
       "      <th>...</th>\n",
       "      <th>trade</th>\n",
       "      <th>transport</th>\n",
       "      <th>van</th>\n",
       "      <th>vehicl</th>\n",
       "      <th>way</th>\n",
       "      <th>well</th>\n",
       "      <th>windstar</th>\n",
       "      <th>worri</th>\n",
       "      <th>would</th>\n",
       "      <th>yet</th>\n",
       "    </tr>\n",
       "  </thead>\n",
       "  <tbody>\n",
       "    <tr>\n",
       "      <th>0</th>\n",
       "      <td>1</td>\n",
       "      <td>1</td>\n",
       "      <td>1</td>\n",
       "      <td>1</td>\n",
       "      <td>1</td>\n",
       "      <td>1</td>\n",
       "      <td>2</td>\n",
       "      <td>1</td>\n",
       "      <td>1</td>\n",
       "      <td>1</td>\n",
       "      <td>...</td>\n",
       "      <td>1</td>\n",
       "      <td>1</td>\n",
       "      <td>4</td>\n",
       "      <td>4</td>\n",
       "      <td>3</td>\n",
       "      <td>2</td>\n",
       "      <td>4</td>\n",
       "      <td>1</td>\n",
       "      <td>1</td>\n",
       "      <td>1</td>\n",
       "    </tr>\n",
       "  </tbody>\n",
       "</table>\n",
       "<p>1 rows × 105 columns</p>\n",
       "</div>"
      ],
      "text/plain": [
       "   200sx  abl  acceler  ad  addit  almost  alot  alway  anyon  avoid  ...  \\\n",
       "0      1    1        1   1      1       1     2      1      1      1  ...   \n",
       "\n",
       "   trade  transport  van  vehicl  way  well  windstar  worri  would  yet  \n",
       "0      1          1    4       4    3     2         4      1      1    1  \n",
       "\n",
       "[1 rows x 105 columns]"
      ]
     },
     "metadata": {},
     "output_type": "display_data"
    },
    {
     "name": "stdout",
     "output_type": "stream",
     "text": [
      "\n"
     ]
    }
   ],
   "source": [
    "#going through first 5 reviews in the dataset\n",
    "for i in range(5):\n",
    "    reviews = file['Review'][i]\n",
    "    \n",
    "    #clean review\n",
    "    cleaned_reviews = cleaning(reviews)\n",
    "    \n",
    "    #converting text into a vector of token counts\n",
    "    vect = CountVectorizer()\n",
    "    \n",
    "    vector = vect.fit_transform([cleaned_reviews])\n",
    "    #putting vector into a dataframe\n",
    "    \n",
    "    vectorised = pd.DataFrame(vector.A, columns = vect.get_feature_names())\n",
    "    \n",
    "    #displaying vectors for each review\n",
    "    print('')\n",
    "    print('The count vector for review ' + str(i+1) + ' is:')\n",
    "    display(vectorised)\n",
    "    \n",
    "print('')"
   ]
  },
  {
   "cell_type": "markdown",
   "id": "2b6ef11b",
   "metadata": {},
   "source": [
    "# Confusion Matrix Function"
   ]
  },
  {
   "cell_type": "code",
   "execution_count": 9,
   "id": "e7b799c6",
   "metadata": {},
   "outputs": [],
   "source": [
    "def display_matrix(matrix):\n",
    "    '''Function for showing the confusion matrix of a classifier'''\n",
    "    \n",
    "    #list of results of the classifer\n",
    "    names = ['True Neg', 'False Pos', 'False Neg', 'True Pos']\n",
    "    \n",
    "    #finding number of each result\n",
    "    counts = [\"{0:0.0f}\".format(value) for value in matrix.flatten()]\n",
    "    \n",
    "    #finding percentage weighting of each result\n",
    "    percentages = [\"{0:.2%}\".format(value) for value in (matrix.flatten() / nm.sum(matrix))]\n",
    "    \n",
    "    #creating a list of all values above\n",
    "    labels = [f\"{v1}\\n{v2}\\n{v3}\" for v1, v2, v3 in zip (names, counts, percentages)]\n",
    "    \n",
    "    labels = nm.asarray(labels).reshape(2,2)\n",
    "    \n",
    "    #creating a heatmap and adding annotations to it \n",
    "    visualisation = sns.heatmap(matrix, annot = labels, fmt = '', cmap = 'Blues')\n",
    "    \n",
    "    return visualisation"
   ]
  },
  {
   "cell_type": "markdown",
   "id": "69711fdd",
   "metadata": {},
   "source": [
    "### Training/Test split\n",
    "We take 80% data for training and 20% data for testing purpose. This is done via the train_test_split method in scikit-learn library."
   ]
  },
  {
   "cell_type": "code",
   "execution_count": 10,
   "id": "d63ffd24",
   "metadata": {},
   "outputs": [
    {
     "name": "stdout",
     "output_type": "stream",
     "text": [
      "The number of reviews in the training split is: 1105.\n",
      "The number of reviews in the test split is: 277.\n"
     ]
    }
   ],
   "source": [
    "#converting all reviews into a vector of token counts using unigrams\n",
    "vector = CountVectorizer(ngram_range=(1,1))\n",
    "\n",
    "\n",
    "X = vector.fit_transform(data).toarray()\n",
    "Y = file.iloc[:, 0]             # need to kow what iloc does ?\n",
    "\n",
    "#creating training and training data\n",
    "X_train, X_test, Y_train, Y_test = train_test_split(X, Y, test_size = 0.2, random_state = 1050)\n",
    "\n",
    "#displaying number of reviews being trained and tested on\n",
    "print('The number of reviews in the training split is: ' + str(len(X_train)) + '.')\n",
    "print('The number of reviews in the test split is: ' + str(len(X_test)) + '.')\n"
   ]
  },
  {
   "cell_type": "markdown",
   "id": "2b712d8a",
   "metadata": {},
   "source": [
    "### Naives Bayes classifier"
   ]
  },
  {
   "cell_type": "code",
   "execution_count": 11,
   "id": "3bf2c5fc",
   "metadata": {},
   "outputs": [
    {
     "name": "stdout",
     "output_type": "stream",
     "text": [
      "The classifier has been fitted using X_train and Y_train.\n",
      "\n",
      "The length of X_train is: 1105.\n",
      "The length of Y_train is: 1105.\n",
      "\n",
      "Accuracy for the Multinomial Naive Bayes classifier on the training data is: 91.58% \n",
      "\n",
      "Accuracy for the Multinomial Naive Bayes classifier on the test data is: 81.59% \n",
      "\n"
     ]
    }
   ],
   "source": [
    "#using Multinomial Naive Bayes classifier on training data from scikit-learn\n",
    "classifier = MultinomialNB()\n",
    "classifier.fit(X_train, Y_train)\n",
    "\n",
    "print('The classifier has been fitted using X_train and Y_train.')\n",
    "print('')\n",
    "\n",
    "print('The length of X_train is: ' + str(len(X_train)) + '.')\n",
    "print('The length of Y_train is: ' + str(len(Y_train)) + '.')\n",
    "print('')\n",
    "\n",
    "#predict sentiment for test data\n",
    "Y_pred = classifier.predict(X_test)\n",
    "\n",
    "#get confusion matrix and accuracy for prediction\n",
    "cf_matrix = confusion_matrix(Y_test, Y_pred)\n",
    "test_accuracy = accuracy_score(Y_test, Y_pred)\n",
    "\n",
    "#showing the result of the classifier being used on the training data.\n",
    "training_accuracy = classifier.score(X_train, Y_train)\n",
    "print('Accuracy for the Multinomial Naive Bayes classifier on the training data is: %.2f%% ' % (training_accuracy * 100.0))\n",
    "print('')\n",
    "\n",
    "#display accuracy of the classifer\n",
    "print('Accuracy for the Multinomial Naive Bayes classifier on the test data is: %.2f%% ' % (test_accuracy * 100.0))\n",
    "print('')"
   ]
  },
  {
   "cell_type": "code",
   "execution_count": 12,
   "id": "6ef4a2ac",
   "metadata": {},
   "outputs": [
    {
     "name": "stdout",
     "output_type": "stream",
     "text": [
      "The confusion matrix for the Multinomial Naive Bayes classifier is:\n"
     ]
    },
    {
     "data": {
      "text/plain": [
       "<AxesSubplot:>"
      ]
     },
     "execution_count": 12,
     "metadata": {},
     "output_type": "execute_result"
    },
    {
     "data": {
      "image/png": "[encoded data removed]",
      "text/plain": [
       "<Figure size 432x288 with 2 Axes>"
      ]
     },
     "metadata": {
      "needs_background": "light"
     },
     "output_type": "display_data"
    }
   ],
   "source": [
    "#display confusion matrix\n",
    "print('The confusion matrix for the Multinomial Naive Bayes classifier is:')\n",
    "display_matrix(cf_matrix)"
   ]
  },
  {
   "cell_type": "markdown",
   "id": "ce7a088a",
   "metadata": {},
   "source": [
    "## Task-2\n",
    "\n",
    "### Improving The Solution To Task 1:\n",
    "In Task 1, the solution only used unigrams in the text classification. This method involved only looking at each word individually instead of multiple words at once. For task 2, instead of using unigrams, I will be using bigrams as well as different naives bayes classifier. Unigrams has one major issue in sentiment analysis. \n",
    "For example, in the case **'I am not happy'**, a classifier trained on unigrams would state that this sentence would have a positive sentiment due to the word **'happy'** being so strong in sentiment. It ignores the **'not'** as it is only looking at the words on an individual basis. However, on a classifier that was trained using bigrams would state that this sentence has a negative sentiment. This is due to it also looking at the words in the sentence in pairs as well as individually. It would see **'not happy'** and understand that this is a negative response because of the negation word (**'not'**) appearing before a positive word (**'happy'**). \n",
    "\n",
    "#### References:\n",
    "[1] Manish Sharma: An Introduction to Naive Bayes Algorithm (2020) \n",
    "\n",
    "https://towardsdatascience.com/sentiment-analysis-introduction-to-naive-bayes-algorithm-96831d77ac91\n",
    "\n",
    "[2] Hardikkumar Dhaduk: Using bigrams, trigrams and using different naives bayes classifier algorithms to improve accuracy. (2021)\n",
    "https://www.analyticsvidhya.com/blog/2021/07/performing-sentiment-analysis-with-naive-bayes-classifier/\n"
   ]
  },
  {
   "cell_type": "markdown",
   "id": "8e943519",
   "metadata": {},
   "source": [
    "### Bigram with Multinomial Naive Bayes classifier"
   ]
  },
  {
   "cell_type": "code",
   "execution_count": 17,
   "id": "98707440",
   "metadata": {},
   "outputs": [],
   "source": [
    "#in order to implement bigrams, the only change needed is to define the ngram_range parameter in CountVectorizer\n",
    "#when it hasn't been specified, the default value is ngram_range = (1,1) which states to only look at each word individually\n",
    "#to use bigrams as well as unigrams, all that needs to be changed from the original code is to state explicitly that pairs of words need to be looked at as well as individual words\n",
    "#ngram_range = (1,2) states that unigrams (1-gram) as well as bigrams (2-gram) should be used the rest of the code is then the same as task 1 \n",
    "vector2 = CountVectorizer(ngram_range=(1,2))\n",
    "\n",
    "X2 = vector2.fit_transform(data).toarray()\n",
    "Y2 = file.iloc[:, 0]\n",
    "\n",
    "\n",
    "#create another set of training and test data\n",
    "X2_train, X2_test, Y2_train, Y2_test = train_test_split(X2, Y2, test_size = 0.2, random_state = 1050)\n",
    "\n",
    "\n"
   ]
  },
  {
   "cell_type": "code",
   "execution_count": 18,
   "id": "6300d4ab",
   "metadata": {},
   "outputs": [
    {
     "name": "stdout",
     "output_type": "stream",
     "text": [
      "Accuracy for the Complement Naive Bayes classifier on the training data is: 100.00% \n",
      "\n",
      "Accuracy for the Complement Naive Bayes classifier on the test data is: 84.12% \n",
      "\n"
     ]
    }
   ],
   "source": [
    "#using Multinomial Naive Bayes classifier on training data\n",
    "classifier2 = MultinomialNB()\n",
    "classifier2.fit(X2_train, Y2_train)\n",
    "\n",
    "#predict new sentiment for test data\n",
    "Y2_pred = classifier2.predict(X2_test)\n",
    "\n",
    "#get new confusion matrix and accuracy for prediction\n",
    "cf_matrix2 = confusion_matrix(Y2_test, Y2_pred)\n",
    "test_accuracy2 = accuracy_score(Y2_test, Y2_pred)\n",
    "\n",
    "#showing the result of the classifier being used on the training data.\n",
    "training_accuracy2 = classifier2.score(X2_train, Y2_train)\n",
    "print('Accuracy for the Multinomial Naive Bayes classifier on the training data is: %.2f%% ' % (training_accuracy2 * 100.0))\n",
    "print('')\n",
    "\n",
    "print('Accuracy for the Multinomial Naive Bayes classifier on the test data is: %.2f%% ' % (test_accuracy2 * 100.0))\n",
    "print('')"
   ]
  },
  {
   "cell_type": "code",
   "execution_count": 21,
   "id": "078685b7",
   "metadata": {},
   "outputs": [
    {
     "name": "stdout",
     "output_type": "stream",
     "text": [
      "The confusion matrix for the Multinomial Naive Bayes classifier is:\n",
      "\n"
     ]
    },
    {
     "data": {
      "image/png": "[encoded data removed]",
      "text/plain": [
       "<Figure size 432x288 with 2 Axes>"
      ]
     },
     "metadata": {
      "needs_background": "light"
     },
     "output_type": "display_data"
    }
   ],
   "source": [
    "#display confusion matrix\n",
    "print('The confusion matrix for the Multinomial Naive Bayes classifier is:')\n",
    "display_matrix(cf_matrix2)\n",
    "print('')"
   ]
  },
  {
   "cell_type": "markdown",
   "id": "c4503c7f",
   "metadata": {},
   "source": [
    "### Bigram with Complement Naive Bayes classifier"
   ]
  },
  {
   "cell_type": "code",
   "execution_count": null,
   "id": "1375950c",
   "metadata": {},
   "outputs": [],
   "source": [
    "#in order to implement bigrams, the only change needed is to define the ngram_range parameter in CountVectorizer\n",
    "#when it hasn't been specified, the default value is ngram_range = (1,1) which states to only look at each word individually\n",
    "#to use bigrams as well as unigrams, all that needs to be changed from the original code is to state explicitly that pairs of words need to be looked at as well as individual words\n",
    "#ngram_range = (1,2) states that unigrams (1-gram) as well as bigrams (2-gram) should be used the rest of the code is then the same as task 1 \n",
    "vector2 = CountVectorizer(ngram_range=(1,2))\n",
    "\n",
    "X2 = vector2.fit_transform(data).toarray()\n",
    "Y2 = file.iloc[:, 0]\n",
    "\n",
    "\n",
    "#create another set of training and test data\n",
    "X2_train, X2_test, Y2_train, Y2_test = train_test_split(X2, Y2, test_size = 0.2, random_state = 1050)\n",
    "\n",
    "\n"
   ]
  },
  {
   "cell_type": "code",
   "execution_count": 19,
   "id": "86240e66",
   "metadata": {},
   "outputs": [
    {
     "name": "stdout",
     "output_type": "stream",
     "text": [
      "Accuracy for the Complement Naive Bayes classifier on the training data is: 100.00% \n",
      "\n",
      "Accuracy for the Complement Naive Bayes classifier on the test data is: 84.12% \n",
      "\n"
     ]
    }
   ],
   "source": [
    "#using Complement Naive Bayes classifier on training data\n",
    "classifier2 = MultinomialNB()\n",
    "classifier2.fit(X2_train, Y2_train)\n",
    "\n",
    "#predict new sentiment for test data\n",
    "Y2_pred = classifier2.predict(X2_test)\n",
    "\n",
    "#get new confusion matrix and accuracy for prediction\n",
    "cf_matrix2 = confusion_matrix(Y2_test, Y2_pred)\n",
    "test_accuracy2 = accuracy_score(Y2_test, Y2_pred)\n",
    "\n",
    "#showing the result of the classifier being used on the training data.\n",
    "training_accuracy2 = classifier2.score(X2_train, Y2_train)\n",
    "print('Accuracy for the Complement Naive Bayes classifier on the training data is: %.2f%% ' % (training_accuracy2 * 100.0))\n",
    "print('')\n",
    "\n",
    "print('Accuracy for the Complement Naive Bayes classifier on the test data is: %.2f%% ' % (test_accuracy2 * 100.0))\n",
    "print('')"
   ]
  },
  {
   "cell_type": "code",
   "execution_count": 22,
   "id": "c12dced8",
   "metadata": {},
   "outputs": [
    {
     "name": "stdout",
     "output_type": "stream",
     "text": [
      "The confusion matrix for the Complement Naive Bayes classifier is:\n",
      "\n"
     ]
    },
    {
     "data": {
      "image/png": "[encoded data removed]",
      "text/plain": [
       "<Figure size 432x288 with 2 Axes>"
      ]
     },
     "metadata": {
      "needs_background": "light"
     },
     "output_type": "display_data"
    }
   ],
   "source": [
    "#display confusion matrix\n",
    "print('The confusion matrix for the Complement Naive Bayes classifier is:')\n",
    "display_matrix(cf_matrix2)\n",
    "print('')"
   ]
  },
  {
   "cell_type": "markdown",
   "id": "9bd9f34f",
   "metadata": {},
   "source": [
    "### Comparison between task 2 & task 1\n",
    "The solution we got in task 2 has some improvement when compared with task 1. We can see that there is an increase in the accuracy of the classifier going up by roughly 3.0%.\n",
    "\n",
    "When comparing the confusion matrices, we can see the expected improvements. The number of True positives is increased by 4. The reaason for this difference was, In the task 1 we have used unigrams where it considers every single word but in task 2 we used bigrams and complement naives bayes classifier. This looks at the words in the sentence in pairs as well as individually So, the positive word have a negative word in front changes the meaning.\n"
   ]
  },
  {
   "cell_type": "code",
   "execution_count": null,
   "id": "cea6552d",
   "metadata": {},
   "outputs": [],
   "source": []
  }
 ],
 "metadata": {
  "kernelspec": {
   "display_name": "Python 3",
   "language": "python",
   "name": "python3"
  },
  "language_info": {
   "codemirror_mode": {
    "name": "ipython",
    "version": 3
   },
   "file_extension": ".py",
   "mimetype": "text/x-python",
   "name": "python",
   "nbconvert_exporter": "python",
   "pygments_lexer": "ipython3",
   "version": "3.8.8"
  }
 },
 "nbformat": 4,
 "nbformat_minor": 5
}
